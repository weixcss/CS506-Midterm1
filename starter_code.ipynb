{
 "cells": [
  {
   "cell_type": "markdown",
   "metadata": {},
   "source": [
    "# Libraries"
   ]
  },
  {
   "cell_type": "code",
   "execution_count": 35,
   "metadata": {},
   "outputs": [],
   "source": [
    "import pickle\n",
    "import pandas as pd\n",
    "import seaborn as sns\n",
    "import matplotlib.pyplot as plt\n",
    "import time\n",
    "from os.path import exists\n",
    "from sklearn.model_selection import train_test_split, RandomizedSearchCV, StratifiedKFold\n",
    "from sklearn.metrics import accuracy_score, confusion_matrix, classification_report\n",
    "from sklearn.neighbors import KNeighborsClassifier\n",
    "from sklearn.preprocessing import StandardScaler\n",
    "from sklearn.ensemble import RandomForestClassifier, ExtraTreesClassifier, GradientBoostingClassifier\n",
    "from sklearn.linear_model import LogisticRegression\n",
    "from sklearn.utils import parallel_backend\n",
    "from scipy.stats import randint, uniform\n",
    "from textblob import TextBlob\n",
    "import numpy as np\n",
    "\n"
   ]
  },
  {
   "cell_type": "markdown",
   "metadata": {},
   "source": [
    "# Loading the Files\n",
    "\n",
    "Download the csv files into the `data/` directory."
   ]
  },
  {
   "cell_type": "code",
   "execution_count": 8,
   "metadata": {},
   "outputs": [
    {
     "name": "stdout",
     "output_type": "stream",
     "text": [
      "train.csv shape is  (1697533, 9)\n",
      "test.csv shape is  (212192, 2)\n",
      "\n",
      "        Id   ProductId          UserId  HelpfulnessNumerator  \\\n",
      "0   914403  B0009W5KHM   AV6QDP8Q0ONK4                     2   \n",
      "1   354887  6303079709  A2I8RXJN80A2D2                     0   \n",
      "2  1407653  B004H0M2XC  A3FHV3RV8Z12E6                     0   \n",
      "3  1377458  B003ZJ9536  A12VLTA3ZHVPUY                     1   \n",
      "4   475323  630574453X  A13NM1PES9OXVN                     2   \n",
      "\n",
      "   HelpfulnessDenominator        Time  \\\n",
      "0                       2  1341014400   \n",
      "1                       0  1168819200   \n",
      "2                       0  1386201600   \n",
      "3                       1  1348704000   \n",
      "4                       3   970012800   \n",
      "\n",
      "                                         Summary  \\\n",
      "0                                  GOOD FUN FILM   \n",
      "1                                   Movie Review   \n",
      "2             When is it a good time to Consent?   \n",
      "3                                          TRUTH   \n",
      "4  Intelligent and bittersweet -- stays with you   \n",
      "\n",
      "                                                Text  Score  \n",
      "0  While most straight to DVD films are not worth...    5.0  \n",
      "1  I have wanted this one for sometime, also.  I ...    5.0  \n",
      "2  Actually this was a pretty darn good indie fil...    4.0  \n",
      "3  Episodes 37 to 72 of the series press on in a ...    5.0  \n",
      "4  I was really impressed with this movie, but wa...    3.0  \n",
      "\n",
      "        Id  Score\n",
      "0  1323432    NaN\n",
      "1  1137299    NaN\n",
      "2  1459366    NaN\n",
      "3   931601    NaN\n",
      "4  1311995    NaN\n",
      "\n",
      "                 Id  HelpfulnessNumerator  HelpfulnessDenominator  \\\n",
      "count  1.697533e+06          1.697533e+06            1.697533e+06   \n",
      "mean   8.487660e+05          3.569048e+00            5.301422e+00   \n",
      "std    4.900357e+05          1.727883e+01            2.024445e+01   \n",
      "min    0.000000e+00          0.000000e+00            0.000000e+00   \n",
      "25%    4.243830e+05          0.000000e+00            0.000000e+00   \n",
      "50%    8.487660e+05          1.000000e+00            1.000000e+00   \n",
      "75%    1.273149e+06          3.000000e+00            5.000000e+00   \n",
      "max    1.697532e+06          6.084000e+03            6.510000e+03   \n",
      "\n",
      "               Time         Score  \n",
      "count  1.697533e+06  1.485341e+06  \n",
      "mean   1.262422e+09  4.110517e+00  \n",
      "std    1.289277e+08  1.197651e+00  \n",
      "min    8.793792e+08  1.000000e+00  \n",
      "25%    1.164413e+09  4.000000e+00  \n",
      "50%    1.307491e+09  5.000000e+00  \n",
      "75%    1.373242e+09  5.000000e+00  \n",
      "max    1.406074e+09  5.000000e+00  \n"
     ]
    },
    {
     "data": {
      "image/png": "[encoded data removed]",
      "text/plain": [
       "<Figure size 640x480 with 1 Axes>"
      ]
     },
     "metadata": {},
     "output_type": "display_data"
    },
    {
     "name": "stdout",
     "output_type": "stream",
     "text": [
      "\n",
      "EVERYTHING IS PROPERLY SET UP! YOU ARE READY TO START\n"
     ]
    }
   ],
   "source": [
    "trainingSet = pd.read_csv(\"./data/train.csv\")\n",
    "testingSet = pd.read_csv(\"./data/test.csv\")\n",
    "\n",
    "print(\"train.csv shape is \", trainingSet.shape)\n",
    "print(\"test.csv shape is \", testingSet.shape)\n",
    "print()\n",
    "\n",
    "print(trainingSet.head())\n",
    "print()\n",
    "print(testingSet.head())\n",
    "print()\n",
    "print(trainingSet.describe())\n",
    "\n",
    "trainingSet['Score'].value_counts().plot(kind='bar', legend=True, alpha=.5)\n",
    "plt.title(\"Score Distribution in Training Data\")\n",
    "plt.xlabel(\"Score\")\n",
    "plt.ylabel(\"Count\")\n",
    "plt.show()\n",
    "\n",
    "print()\n",
    "print(\"EVERYTHING IS PROPERLY SET UP! YOU ARE READY TO START\")"
   ]
  },
  {
   "cell_type": "markdown",
   "metadata": {},
   "source": [
    "# Adding Features"
   ]
  },
  {
   "cell_type": "code",
   "execution_count": 9,
   "metadata": {},
   "outputs": [
    {
     "name": "stderr",
     "output_type": "stream",
     "text": [
      "/var/folders/12/sgrgj1zj27g2_6chndcqh8740000gn/T/ipykernel_16030/1266905743.py:3: FutureWarning: A value is trying to be set on a copy of a DataFrame or Series through chained assignment using an inplace method.\n",
      "The behavior will change in pandas 3.0. This inplace method will never work because the intermediate object on which we are setting values always behaves as a copy.\n",
      "\n",
      "For example, when doing 'df[col].method(value, inplace=True)', try using 'df.method({col: value}, inplace=True)' or df[col] = df[col].method(value) instead, to perform the operation inplace on the original object.\n",
      "\n",
      "\n",
      "  df['Helpfulness'].fillna(0, inplace=True)\n"
     ]
    },
    {
     "name": "stdout",
     "output_type": "stream",
     "text": [
      "Sentiment calculated for 0 rows...\n",
      "Sentiment calculated for 100000 rows...\n",
      "Sentiment calculated for 200000 rows...\n",
      "Sentiment calculated for 300000 rows...\n",
      "Sentiment calculated for 400000 rows...\n",
      "Sentiment calculated for 500000 rows...\n",
      "Sentiment calculated for 600000 rows...\n",
      "Sentiment calculated for 700000 rows...\n",
      "Sentiment calculated for 800000 rows...\n",
      "Sentiment calculated for 900000 rows...\n",
      "Sentiment calculated for 1000000 rows...\n",
      "Sentiment calculated for 1100000 rows...\n",
      "Sentiment calculated for 1200000 rows...\n",
      "Sentiment calculated for 1300000 rows...\n",
      "Sentiment calculated for 1400000 rows...\n",
      "Sentiment calculated for 1500000 rows...\n",
      "Sentiment calculated for 1600000 rows...\n"
     ]
    }
   ],
   "source": [
    "def add_features_to(df):\n",
    "    df['Helpfulness'] = df['HelpfulnessNumerator'] / df['HelpfulnessDenominator']\n",
    "    df['Helpfulness'].fillna(0, inplace=True)\n",
    "    df['ReviewYear'] = pd.to_datetime(df['Time'], unit='s').dt.year\n",
    "    df['ReviewMonth'] = pd.to_datetime(df['Time'], unit='s').dt.month\n",
    "    df['TextLength'] = df['Text'].str.len().fillna(0)\n",
    "    df['SummaryLength'] = df['Summary'].str.len().fillna(0)\n",
    "    df['NumWordsText'] = df['Text'].str.split().str.len().fillna(0)\n",
    "    df['NumWordsSummary'] = df['Summary'].str.split().str.len().fillna(0)\n",
    "    df['HelpfulnessRatio'] = df['HelpfulnessNumerator'] / (df['HelpfulnessDenominator'] + 1)\n",
    "    #df['AvgWordLengthText'] = df['Text'].apply(lambda x: np.mean([len(word) for word in str(x).split()]) if x else 0)\n",
    "    #df['AvgSentenceLengthText'] = df['Text'].apply(lambda x: len(str(x).split()) / (str(x).count('.') + 1) if x else 0)\n",
    "\n",
    "    def calculate_sentiment(text, idx):\n",
    "        sentiment_score = 0  # sentiment for missing or invalid data\n",
    "        if isinstance(text, str): \n",
    "            sentiment_score = TextBlob(text).sentiment.polarity\n",
    "        if idx % 100000 == 0:  \n",
    "            print(f\"Sentiment calculated for {idx} rows...\")\n",
    "        return sentiment_score\n",
    "    \n",
    "    df['TextPolarity'] = df.apply(lambda row: calculate_sentiment(row['Text'], row.name), axis=1)\n",
    "\n",
    "    return df\n",
    "\n",
    "if exists('./data/X_train.csv'):\n",
    "    X_train = pd.read_csv(\"./data/X_train.csv\")\n",
    "    X_submission = pd.read_csv(\"./data/X_submission.csv\")\n",
    "else:\n",
    "    train = add_features_to(trainingSet)\n",
    "\n",
    "    X_submission = pd.merge(train, testingSet, on='Id')\n",
    "    X_submission = X_submission.drop(columns=['Score_x'])\n",
    "    X_submission = X_submission.rename(columns={'Score_y': 'Score'})\n",
    "    X_train = train[train['Score'].notnull()]\n",
    "\n",
    "    X_submission.to_csv(\"./data/X_submission.csv\", index=False)\n",
    "    X_train.to_csv(\"./data/X_train.csv\", index=False)\n"
   ]
  },
  {
   "cell_type": "markdown",
   "metadata": {},
   "source": [
    "# Feature Selection"
   ]
  },
  {
   "cell_type": "code",
   "execution_count": 10,
   "metadata": {},
   "outputs": [],
   "source": [
    "features = ['Helpfulness', 'ReviewYear', 'ReviewMonth', 'TextLength', 'SummaryLength', 'NumWordsText', 'NumWordsSummary', 'HelpfulnessRatio', 'TextPolarity'] \n",
    "X_train_select = X_train[features]\n",
    "X_submission_select = X_submission[features]"
   ]
  },
  {
   "cell_type": "markdown",
   "metadata": {},
   "source": [
    "# Sample + Split into training and testing set"
   ]
  },
  {
   "cell_type": "code",
   "execution_count": 44,
   "metadata": {},
   "outputs": [
    {
     "ename": "IndexError",
     "evalue": "only integers, slices (`:`), ellipsis (`...`), numpy.newaxis (`None`) and integer or boolean arrays are valid indices",
     "output_type": "error",
     "traceback": [
      "\u001b[0;31m---------------------------------------------------------------------------\u001b[0m",
      "\u001b[0;31mIndexError\u001b[0m                                Traceback (most recent call last)",
      "Cell \u001b[0;32mIn[44], line 2\u001b[0m\n\u001b[1;32m      1\u001b[0m X_train, X_test, Y_train, Y_test \u001b[38;5;241m=\u001b[39m train_test_split(\n\u001b[0;32m----> 2\u001b[0m     X_train_select, \u001b[43mX_train\u001b[49m\u001b[43m[\u001b[49m\u001b[38;5;124;43m'\u001b[39;49m\u001b[38;5;124;43mScore\u001b[39;49m\u001b[38;5;124;43m'\u001b[39;49m\u001b[43m]\u001b[49m, test_size\u001b[38;5;241m=\u001b[39m\u001b[38;5;241m0.25\u001b[39m, random_state\u001b[38;5;241m=\u001b[39m\u001b[38;5;241m43\u001b[39m\n\u001b[1;32m      3\u001b[0m )\n",
      "\u001b[0;31mIndexError\u001b[0m: only integers, slices (`:`), ellipsis (`...`), numpy.newaxis (`None`) and integer or boolean arrays are valid indices"
     ]
    }
   ],
   "source": [
    "X_train, X_test, Y_train, Y_test = train_test_split(\n",
    "    X_train_select, X_train['Score'], test_size=0.25, random_state=43\n",
    ")"
   ]
  },
  {
   "cell_type": "markdown",
   "metadata": {},
   "source": [
    "# Data Scaling for KNN and Logistic Regression Models"
   ]
  },
  {
   "cell_type": "code",
   "execution_count": 45,
   "metadata": {},
   "outputs": [],
   "source": [
    "\n",
    "scaler = StandardScaler()\n",
    "X_train = scaler.fit_transform(X_train)\n",
    "X_test = scaler.transform(X_test)\n",
    "X_submission_select = scaler.transform(X_submission_select)\n"
   ]
  },
  {
   "cell_type": "markdown",
   "metadata": {},
   "source": [
    "# Model Creation"
   ]
  },
  {
   "cell_type": "code",
   "execution_count": 48,
   "metadata": {},
   "outputs": [
    {
     "name": "stdout",
     "output_type": "stream",
     "text": [
      "Starting gb model tuning...\n",
      "gb best score: 0.5589005435343647 - Elapsed time: 203.52 seconds\n",
      "\n",
      "Selected Model: GradientBoostingClassifier(learning_rate=0.26234866368502113, n_estimators=28,\n",
      "                           random_state=43, subsample=0.6253052182307468)\n",
      "Best Score: 0.5589005435343647\n",
      "Training the selected best model on the full training data...\n",
      "Training complete.\n"
     ]
    }
   ],
   "source": [
    "knn = KNeighborsClassifier()\n",
    "rf = RandomForestClassifier(random_state=43)\n",
    "lr = LogisticRegression(max_iter=1000, class_weight='balanced')\n",
    "gb = GradientBoostingClassifier(random_state=43)\n",
    "et = ExtraTreesClassifier(random_state=43)\n",
    "\n",
    "\n",
    "# Model parameters\n",
    "models = {\n",
    "    'knn': (knn, {'n_neighbors': randint(5, 10), 'weights': ['uniform', 'distance']}),\n",
    "    'rf': (rf, {'n_estimators': randint(50, 150), 'max_depth': randint(5, 12)}),\n",
    "    'lr': (lr, {'C': uniform(0.1, 2)}),\n",
    "    'gb': (gb, {'n_estimators': randint(10, 30), 'learning_rate': uniform(0.1, 0.3), 'max_depth': randint(2, 4), 'subsample': uniform(0.5, 0.5)}),\n",
    "    'et': (et, {'n_estimators': randint(50, 120), 'max_depth': randint(5, 10)}),\n",
    "}\n",
    "\n",
    "best_score = 0\n",
    "best_model = None\n",
    "results = {}\n",
    "\n",
    "for model_name, (model, params) in models.items():\n",
    "    print(f\"Starting {model_name} model tuning...\")\n",
    "    start_time = time.time()\n",
    "    \n",
    "    search = RandomizedSearchCV(model, params, n_iter=3, cv=3, random_state=43, n_jobs=-1) # n_jobs=-1 for parallel processing\n",
    "    with parallel_backend('loky'):\n",
    "        search.fit(X_train, Y_train)\n",
    "    \n",
    "    # Log results\n",
    "    results[model_name] = search.best_score_\n",
    "    elapsed_time = time.time() - start_time\n",
    "    print(f\"{model_name} best score: {search.best_score_} - Elapsed time: {elapsed_time:.2f} seconds\")\n",
    "    \n",
    "    if search.best_score_ > best_score:\n",
    "        best_score = search.best_score_\n",
    "        best_model = search.best_estimator_\n",
    "\n",
    "\n",
    "print(\"\\nSelected Model:\", best_model)\n",
    "print(\"Best Score:\", best_score)\n",
    "\n",
    "print(\"Training the selected best model on the full training data...\")\n",
    "best_model.fit(X_train, Y_train)\n",
    "Y_test_predictions = best_model.predict(X_test)\n",
    "print(\"Training complete.\")\n"
   ]
  },
  {
   "cell_type": "markdown",
   "metadata": {},
   "source": [
    "# Model Evaluation"
   ]
  },
  {
   "cell_type": "code",
   "execution_count": 49,
   "metadata": {},
   "outputs": [
    {
     "name": "stdout",
     "output_type": "stream",
     "text": [
      "Accuracy on testing set =  0.5429287760949653\n",
      "\n",
      "Classification Report:\n",
      "               precision    recall  f1-score   support\n",
      "\n",
      "         1.0       0.62      0.19      0.29     22953\n",
      "         2.0       0.25      0.02      0.03     22327\n",
      "         3.0       0.16      0.01      0.02     44069\n",
      "         4.0       0.19      0.00      0.00     84008\n",
      "         5.0       0.55      0.99      0.70    197979\n",
      "\n",
      "    accuracy                           0.54    371336\n",
      "   macro avg       0.35      0.24      0.21    371336\n",
      "weighted avg       0.41      0.54      0.40    371336\n",
      "\n"
     ]
    },
    {
     "data": {
      "image/png": "[encoded data removed]",
      "text/plain": [
       "<Figure size 640x480 with 2 Axes>"
      ]
     },
     "metadata": {},
     "output_type": "display_data"
    }
   ],
   "source": [
    "# Model Evaluation\n",
    "print(\"Accuracy on testing set = \", accuracy_score(Y_test, Y_test_predictions))\n",
    "print(\"\\nClassification Report:\\n\", classification_report(Y_test, Y_test_predictions))\n",
    "\n",
    "# Confusion Matrix Visualization\n",
    "cm = confusion_matrix(Y_test, Y_test_predictions, normalize='true')\n",
    "sns.heatmap(cm, annot=True, cmap='Blues')\n",
    "plt.title('Confusion Matrix of the Classifier')\n",
    "plt.xlabel('Predicted')\n",
    "plt.ylabel('True')\n",
    "plt.show()"
   ]
  },
  {
   "cell_type": "markdown",
   "metadata": {},
   "source": [
    "# Create submission file"
   ]
  },
  {
   "cell_type": "code",
   "execution_count": 18,
   "metadata": {},
   "outputs": [
    {
     "name": "stdout",
     "output_type": "stream",
     "text": [
      "Submission file created as submission.csv\n"
     ]
    }
   ],
   "source": [
    "# Submission File Creation\n",
    "X_submission['Score'] = best_model.predict(X_submission_select)\n",
    "submission = X_submission[['Id', 'Score']]\n",
    "submission.to_csv(\"./data/submission.csv\", index=False)\n",
    "print(\"Submission file created as submission.csv\")"
   ]
  }
 ],
 "metadata": {
  "kernelspec": {
   "display_name": "Python 3",
   "language": "python",
   "name": "python3"
  },
  "language_info": {
   "codemirror_mode": {
    "name": "ipython",
    "version": 3
   },
   "file_extension": ".py",
   "mimetype": "text/x-python",
   "name": "python",
   "nbconvert_exporter": "python",
   "pygments_lexer": "ipython3",
   "version": "3.12.0"
  }
 },
 "nbformat": 4,
 "nbformat_minor": 2
}
